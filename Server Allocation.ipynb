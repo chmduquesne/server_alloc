{
 "cells": [
  {
   "cell_type": "markdown",
   "metadata": {},
   "source": [
    "Server allocation problem\n",
    "=====================\n",
    "\n",
    "You have $n$ virtual machines, each of them requires some amount of cpu, ram and network throughput. You want to buy as little servers as possible to run them. Each server is built on the same template."
   ]
  },
  {
   "cell_type": "code",
   "execution_count": 1,
   "metadata": {},
   "outputs": [],
   "source": [
    "# Let's follow Maria's advice and use namedtuples\n",
    "from collections import namedtuple\n",
    "Machine = namedtuple('Machine', ['ram', 'cpu', 'net'])"
   ]
  },
  {
   "cell_type": "code",
   "execution_count": 2,
   "metadata": {},
   "outputs": [],
   "source": [
    "# An instance of the problem\n",
    "\n",
    "# server template\n",
    "server = Machine(ram=256, cpu=32, net=100)\n",
    "\n",
    "# possible vms\n",
    "small = Machine(ram=8, cpu=1, net=10)\n",
    "medium = Machine(ram=16, cpu=4, net=15)\n",
    "big = Machine (ram=128, cpu=8, net=40)\n",
    "\n",
    "# An instance of our problem\n",
    "instance = { 'server' : server, 'vms': 10 * [ small ] + 5 * [ medium ] + 2 * [ big ] }"
   ]
  },
  {
   "cell_type": "code",
   "execution_count": 3,
   "metadata": {},
   "outputs": [
    {
     "name": "stdout",
     "output_type": "stream",
     "text": [
      "True\n",
      "False\n"
     ]
    }
   ],
   "source": [
    "# Helper function\n",
    "def well_defined(instance):\n",
    "    server = instance[\"server\"]\n",
    "    vms = instance[\"vms\"]\n",
    "    for vm in vms:\n",
    "        if vm.cpu > server.cpu or vm.ram > server.ram or vm.net > server.net:\n",
    "            return False\n",
    "    return True\n",
    "\n",
    "print(well_defined(instance))\n",
    "print(well_defined({\"server\": Machine(1, 1 ,1), \"vms\": [Machine(2, 2, 2)]}))"
   ]
  },
  {
   "cell_type": "markdown",
   "metadata": {},
   "source": [
    "A solution is to greedily assign vms to the same server as long as they fit, and switch to the next server otherwise. Let's talk about a linear programming model that yields the optimal solution instead.\n",
    "\n",
    "Model\n",
    "-----\n",
    "\n",
    "* Let $x_{i, j}$ be the variable \"the vm $i$ is assigned to the server $j$\". That is, if $x_{i, j} = 1$, the vm is assigned to the server, and otherwise $x_{i, j} = 1$.\n",
    "* Let $y_j$ be the variable \"the server $j$ is used\".\n",
    "\n",
    "Initially we are going to assume that there are $n$ servers (as many as the vms), because it is a feasible solution. It allows to have a bounded number of $y_j$.\n",
    "\n",
    "Let $M$ be a large number. A \"trick\" to express the fact that, for a given server $j$, the fact any of $x_{i, j}=1$ means that the server is used, is to use the following constraint: $\\sum_{i=1}^n x_{i, j} <= M y_j$.\n",
    "\n",
    "The model can be expressed like this:\n",
    "\n",
    "* minimize $\\sum_{j=1}^n y_j$ (we want to minimize the number of servers)\n",
    "* such that\n",
    "* $\\forall i \\in [1..n], \\sum_{j=1}^n x_{i, j} = 1$ ( = each vm $i$ is assigned to exactly one server)\n",
    "* $\\forall j \\in [1..n], \\sum_{i=1}^n x_{i, j} <= M y_j$ (if any of the vms uses the server $j$, its associated variable cannot be null)\n",
    "* $\\forall j \\in [1..n], \\sum_{i=1}^n x_{i, j} \\text{cpu}_i <= \\text{cpu}$ (all vm must fit into the server in terms of cpu)\n",
    "* $\\forall j \\in [1..n], \\sum_{i=1}^n x_{i, j} \\text{ram}_i <= \\text{ram}$ (all vm must fit into the server in terms of ram)\n",
    "* $\\forall j \\in [1..n], \\sum_{i=1}^n x_{i, j} \\text{net}_i <= \\text{net}$ (all vm must fit into the server in terms of network throughput)\n",
    "\n",
    "All right, but there is far too much symetry because are solvers are the same, so a linear solver will spend a lot of time looking for the optimal solution because they are virtually all worth the same. A way to break the symetry is to introduce an increasing cost for each new server. This way the server $n$ is going to cost more than the server $n-1$, which is going to cost more than the server $n-2$... So instead of minimizing $\\sum_{j=1}^n y_j$, we minimize e.g. $\\sum_{j=1}^n j y_j$."
   ]
  },
  {
   "cell_type": "code",
   "execution_count": 4,
   "metadata": {},
   "outputs": [],
   "source": [
    "from pulp import *\n",
    "\n",
    "def solve(instance):\n",
    "    if not well_defined(instance):\n",
    "        raise ValueError(\"Infeasible problem\")\n",
    "    \n",
    "    vms = instance[\"vms\"]\n",
    "    server = instance[\"server\"]\n",
    "    n = len(vms)\n",
    "    \n",
    "    # variables\n",
    "    x = {(i, j): LpVariable(\"X_%s_%s\" % (i, j), 0, 1, LpInteger) for i in range(n) for j in range(n)}\n",
    "    y = [ LpVariable(\"Y_srv%s\" % j, 0, 1, LpInteger) for j in range(n) ]\n",
    "    \n",
    "    # problem\n",
    "    prob = LpProblem(\"Servers allocation\", LpMinimize)\n",
    "    \n",
    "    # objective\n",
    "    costs = range(1, n+1)\n",
    "    prob += lpSum([ c * y for y, c in zip(costs, y)])\n",
    "    \n",
    "    # each vm assigned exactly once\n",
    "    for i in range(n):\n",
    "        prob += lpSum([x[(i, j)] for j in range(n)]) == 1, \"vm %s assigned once\" % i\n",
    "    \n",
    "    # sum_i xij >= 1 => server j in use\n",
    "    for j in range(n):\n",
    "        prob += lpSum([x[(i, j)] for i in range(n)]) <= n * y[j]\n",
    "        \n",
    "    # the assigned cpu fits\n",
    "    for j in range(n):\n",
    "        prob += lpSum([x[(i, j)] * vms[i].cpu for i in range(n)]) <= server.cpu\n",
    "    \n",
    "    # the assigned ram fits\n",
    "    for j in range(n):\n",
    "        prob += lpSum([x[(i, j)] * vms[i].ram for i in range(n)]) <= server.ram\n",
    "        \n",
    "    # the assigned net fits\n",
    "    for j in range(n):\n",
    "        prob += lpSum([x[(i, j)] * vms[i].net for i in range(n)]) <= server.net\n",
    "    \n",
    "    # Let the solver do the magic\n",
    "    prob.solve()\n",
    "    \n",
    "    res = {}\n",
    "    for i in range(n):\n",
    "        for j in range(n):\n",
    "            if x[(i,j)].varValue == 1:\n",
    "                res.setdefault(j, []).append(i)\n",
    "    return res\n",
    "\n",
    "    "
   ]
  },
  {
   "cell_type": "code",
   "execution_count": 5,
   "metadata": {},
   "outputs": [
    {
     "data": {
      "text/plain": [
       "{0: [0, 2, 3, 4, 5, 6, 7, 8, 9], 2: [1, 12, 16], 1: [10, 11, 13, 14, 15]}"
      ]
     },
     "execution_count": 5,
     "metadata": {},
     "output_type": "execute_result"
    }
   ],
   "source": [
    "server_to_vms = solve(instance)\n",
    "server_to_vms"
   ]
  },
  {
   "cell_type": "code",
   "execution_count": null,
   "metadata": {},
   "outputs": [],
   "source": []
  }
 ],
 "metadata": {
  "language_info": {
   "codemirror_mode": {
    "name": "ipython",
    "version": 3
   },
   "file_extension": ".py",
   "mimetype": "text/x-python",
   "name": "python",
   "nbconvert_exporter": "python",
   "pygments_lexer": "ipython3",
   "version": "3.7.0"
  }
 },
 "nbformat": 4,
 "nbformat_minor": 2
}
